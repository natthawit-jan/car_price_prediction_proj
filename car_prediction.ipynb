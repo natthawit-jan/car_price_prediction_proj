{
 "cells": [
  {
   "cell_type": "code",
   "execution_count": null,
   "metadata": {},
   "outputs": [],
   "source": [
    "## Import library\n",
    "import numpy as np\n",
    "import pandas as pd\n",
    "import matplotlib.pyplot as plt\n",
    "import seaborn as sns\n",
    "import statsmodels.api as sm\n",
    "from sklearn.linear_model import LinearRegression\n",
    "from sklearn.model_selection import train_test_split\n",
    "from sklearn.metrics import mean_absolute_error, mean_squared_error\n",
    "pd.options.display.float_format = \"{:.2f}\".format"
   ]
  },
  {
   "cell_type": "code",
   "execution_count": null,
   "metadata": {},
   "outputs": [],
   "source": [
    "url = r'https://raw.githubusercontent.com/natthawit-jan/car_price_prediction_proj/master/Car_Purchasing_Data.csv'\n",
    "df = pd.read_csv(url)"
   ]
  },
  {
   "cell_type": "code",
   "execution_count": null,
   "metadata": {},
   "outputs": [],
   "source": [
    "df.head()"
   ]
  },
  {
   "cell_type": "code",
   "execution_count": null,
   "metadata": {},
   "outputs": [],
   "source": [
    "df.info()"
   ]
  },
  {
   "cell_type": "code",
   "execution_count": null,
   "metadata": {},
   "outputs": [],
   "source": [
    "df.describe()"
   ]
  },
  {
   "cell_type": "markdown",
   "metadata": {},
   "source": [
    "Rename the column of gender to is_male, where 1 indicates male and female otherwise"
   ]
  },
  {
   "cell_type": "code",
   "execution_count": null,
   "metadata": {},
   "outputs": [],
   "source": [
    "df.rename(columns={'Gender': 'Is_Male'}, inplace=True)"
   ]
  },
  {
   "cell_type": "code",
   "execution_count": null,
   "metadata": {},
   "outputs": [],
   "source": [
    "df.head()"
   ]
  },
  {
   "cell_type": "code",
   "execution_count": null,
   "metadata": {},
   "outputs": [],
   "source": [
    "d = sns.displot(data=df, x=\"Car Purchase Amount\", col=\"Is_Male\",)\n",
    "d.axes[0][0].set_title('Female')\n",
    "d.axes[0][1].set_title('Male')\n",
    "plt.show()"
   ]
  },
  {
   "cell_type": "code",
   "execution_count": null,
   "metadata": {},
   "outputs": [],
   "source": [
    "cols = [name for name in df.select_dtypes('number').columns if name != 'Car Purchase Amount' ]\n",
    "P = df.corr().drop(columns=cols, index=['Car Purchase Amount', 'Is_Male']).sort_values(by='Car Purchase Amount').T"
   ]
  },
  {
   "cell_type": "code",
   "execution_count": null,
   "metadata": {},
   "outputs": [],
   "source": [
    "ax = sns.heatmap(P, annot=True, cbar=False, cmap=\"YlGnBu\")\n",
    "ax.set_title('Correlation')\n",
    "ax.set_xticklabels(ax.get_xticklabels(),)\n",
    "plt.show()"
   ]
  },
  {
   "cell_type": "markdown",
   "metadata": {},
   "source": [
    " Correlation between all dataset to see if X are related to each other (Multicorrlinearlity)"
   ]
  },
  {
   "cell_type": "code",
   "execution_count": null,
   "metadata": {},
   "outputs": [],
   "source": [
    "sns.heatmap(df.corr(), annot=True, cbar=False, )\n",
    "plt.show()"
   ]
  },
  {
   "cell_type": "code",
   "execution_count": null,
   "outputs": [],
   "source": [
    "sns.pairplot(data=df.drop(columns=['Is_Male']), height=2)"
   ],
   "metadata": {
    "collapsed": false
   }
  },
  {
   "cell_type": "code",
   "execution_count": null,
   "metadata": {},
   "outputs": [],
   "source": [
    "## Drop Country, Customer Name and Customer e-mail columns since they are not relevant to the model\n",
    "if 'Country' in df.columns:\n",
    "    df.drop(columns='Country', inplace=True)\n",
    "if 'Customer Name' in df.columns:\n",
    "    df.drop(columns='Customer Name', inplace=True)\n",
    "if 'Customer e-mail' in df.columns:\n",
    "    df.drop(columns='Customer e-mail', inplace=True)"
   ]
  },
  {
   "cell_type": "code",
   "execution_count": null,
   "outputs": [],
   "source": [
    "df.head()"
   ],
   "metadata": {
    "collapsed": false
   }
  },
  {
   "cell_type": "markdown",
   "metadata": {},
   "source": [
    "Choose to see the plots for only 3 looking-like linear feature (Age, Net Worth and Annual Salary)"
   ]
  },
  {
   "cell_type": "code",
   "execution_count": null,
   "metadata": {},
   "outputs": [],
   "source": [
    "x_elements = ['Age', 'Annual Salary', 'Net Worth']\n",
    "y_elements = 'Car Purchase Amount'\n",
    "sns.pairplot(data=df, x_vars=x_elements, y_vars=y_elements, kind=\"reg\", height=3 )"
   ]
  },
  {
   "cell_type": "markdown",
   "metadata": {},
   "source": [
    " Therefore, looking from the plots, we can see that there are mainly 3 features that look linear and can be used to train the model. *Age*, *Net Worth* and *Annual Salary*\n",
    " At first trial, we will include all the features to our model to see if this will give good results\n"
   ]
  },
  {
   "cell_type": "markdown",
   "metadata": {},
   "source": [
    "Define X and y for the model"
   ]
  },
  {
   "cell_type": "code",
   "execution_count": null,
   "outputs": [],
   "source": [
    "from sklearn.preprocessing import StandardScaler\n",
    "from sklearn.compose import ColumnTransformer"
   ],
   "metadata": {
    "collapsed": false
   }
  },
  {
   "cell_type": "markdown",
   "source": [
    "### Standardize the data"
   ],
   "metadata": {
    "collapsed": false
   }
  },
  {
   "cell_type": "code",
   "execution_count": null,
   "metadata": {},
   "outputs": [],
   "source": [
    "y_feature = ['Car Purchase Amount']\n",
    "x_features = ['Age', 'Annual Salary', 'Net Worth', 'Credit Card Debt', 'Is_Male']\n",
    "data = df[x_features + y_feature]"
   ]
  },
  {
   "cell_type": "code",
   "execution_count": null,
   "outputs": [],
   "source": [
    "\n",
    "ct = ColumnTransformer(\n",
    "    [(\"Features\", StandardScaler(), x_features),\n",
    "     (\"Car price Amount\", StandardScaler(), y_feature)\n",
    "     ], verbose_feature_names_out=False)\n",
    "\n",
    "p = ct.fit_transform(data)\n",
    "\n",
    "sub_df = pd.DataFrame(p, columns=ct.get_feature_names_out())\n",
    "#\n",
    "X = sub_df[x_features]\n",
    "y = sub_df[y_feature]\n"
   ],
   "metadata": {
    "collapsed": false
   }
  },
  {
   "cell_type": "code",
   "execution_count": null,
   "outputs": [],
   "source": [],
   "metadata": {
    "collapsed": false
   }
  },
  {
   "cell_type": "code",
   "execution_count": null,
   "metadata": {},
   "outputs": [],
   "source": [
    "X_train, X_test, y_train, y_test = train_test_split(X, y, test_size=.3)"
   ]
  },
  {
   "cell_type": "markdown",
   "source": [
    "## Train the model"
   ],
   "metadata": {
    "collapsed": false
   }
  },
  {
   "cell_type": "code",
   "execution_count": null,
   "metadata": {},
   "outputs": [],
   "source": [
    "model = LinearRegression()\n",
    "model.fit(X_train, y_train)"
   ]
  },
  {
   "cell_type": "markdown",
   "source": [
    "### Get all coefficients"
   ],
   "metadata": {
    "collapsed": false
   }
  },
  {
   "cell_type": "code",
   "execution_count": null,
   "metadata": {},
   "outputs": [],
   "source": [
    "print(f'The intercept b0 = {model.intercept_}')\n"
   ]
  },
  {
   "cell_type": "code",
   "execution_count": null,
   "metadata": {},
   "outputs": [],
   "source": [
    "for ind, coeff in enumerate(model.coef_.T):\n",
    "    print(f'The value of b{ind+1} {X.columns.values[ind]} = {coeff}')\n",
    "    ind += 1"
   ]
  },
  {
   "cell_type": "markdown",
   "metadata": {},
   "source": [
    "$ R^2 $ calculation"
   ]
  },
  {
   "cell_type": "code",
   "execution_count": null,
   "metadata": {},
   "outputs": [],
   "source": [
    "R_2_for_test_data = model.score(X_test, y_test)\n",
    "print(f'R2 score for the test data is {R_2_for_test_data}')"
   ]
  },
  {
   "cell_type": "markdown",
   "metadata": {},
   "source": [
    "Calculate Mean Error on the *test* data"
   ]
  },
  {
   "cell_type": "code",
   "execution_count": null,
   "metadata": {},
   "outputs": [],
   "source": [
    "y_pred = model.predict(X_test)\n",
    "print('MAE:', mean_absolute_error(y_test, y_pred))\n",
    "print('MSE:', mean_squared_error(y_test, y_pred))\n",
    "print('RMSE:', np.sqrt(mean_squared_error(y_test, y_pred)))"
   ]
  },
  {
   "cell_type": "code",
   "execution_count": null,
   "metadata": {},
   "outputs": [],
   "source": [
    "X_With_Constant = sm.add_constant(X_train)\n",
    "sm_model = sm.OLS(y_train, X_With_Constant).fit()\n",
    "sm_model.summary()\n"
   ]
  },
  {
   "cell_type": "markdown",
   "source": [
    "### PLAY WITH THE MODEL"
   ],
   "metadata": {
    "collapsed": false
   }
  },
  {
   "cell_type": "code",
   "execution_count": null,
   "outputs": [],
   "source": [
    "x_transformer = ct.named_transformers_['Features']\n",
    "y_transformer = ct.named_transformers_['Car price Amount']\n",
    "\n",
    "AGE = 50\n",
    "SALARY = 30294\n",
    "NETWORTH = 349204\n",
    "\n",
    "\n",
    "x = pd.DataFrame([[AGE, SALARY, NETWORTH]], columns= ['Age', 'Annual Salary', 'Net Worth'])\n",
    "\n",
    "x_to_predict = x_transformer.transform(x) # Transform the x to standardized x\n",
    "\n",
    "predicted_amount = model.predict(x_to_predict) # Predict\n",
    "\n",
    "print(f'Predicted Amount = {y_transformer.inverse_transform(predicted_amount)[0][0]}')\n"
   ],
   "metadata": {
    "collapsed": false
   }
  },
  {
   "cell_type": "code",
   "execution_count": null,
   "outputs": [],
   "source": [
    "dfs = [pd.Series(y_pred.reshape(-1)), pd.Series((y_pred - y_test.to_numpy()).reshape(-1))]\n",
    "residual_fitted_df = pd.concat(dfs , axis=1)\n",
    "residual_fitted_df.columns = ['Fitted', 'Residual']"
   ],
   "metadata": {
    "collapsed": false
   }
  },
  {
   "cell_type": "markdown",
   "source": [
    "Plot residual against true values"
   ],
   "metadata": {
    "collapsed": false
   }
  },
  {
   "cell_type": "code",
   "execution_count": null,
   "outputs": [],
   "source": [
    "mean_residual = residual_fitted_df['Residual'].mean()\n",
    "fig, ax = plt.subplots(figsize=(10, 10))\n",
    "sns.scatterplot(data=residual_fitted_df, x=\"Fitted\", y=\"Residual\")\n",
    "plt.plot([-3, 3], [mean_residual, mean_residual],   linewidth=2, color='r')\n",
    "plt.show()"
   ],
   "metadata": {
    "collapsed": false
   }
  }
 ],
 "metadata": {
  "kernelspec": {
   "display_name": "Python 3 (ipykernel)",
   "language": "python",
   "name": "python3"
  },
  "language_info": {
   "codemirror_mode": {
    "name": "ipython",
    "version": 3
   },
   "file_extension": ".py",
   "mimetype": "text/x-python",
   "name": "python",
   "nbconvert_exporter": "python",
   "pygments_lexer": "ipython3",
   "version": "3.10.7"
  }
 },
 "nbformat": 4,
 "nbformat_minor": 1
}
